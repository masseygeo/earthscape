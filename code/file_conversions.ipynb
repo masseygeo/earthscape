{
 "cells": [
  {
   "cell_type": "code",
   "execution_count": 1,
   "metadata": {},
   "outputs": [],
   "source": [
    "from utils import multi_tif_to_single_tif_conversion, shapefile_to_tif_conversion\n",
    "import json"
   ]
  },
  {
   "cell_type": "markdown",
   "metadata": {},
   "source": [
    "# File Conversions"
   ]
  },
  {
   "cell_type": "markdown",
   "metadata": {},
   "source": [
    "## Warren County"
   ]
  },
  {
   "cell_type": "markdown",
   "metadata": {},
   "source": [
    "### Digital Elevation Model"
   ]
  },
  {
   "cell_type": "code",
   "execution_count": 3,
   "metadata": {},
   "outputs": [
    {
     "name": "stdout",
     "output_type": "stream",
     "text": [
      "Output file already exists...\n"
     ]
    }
   ],
   "source": [
    "##### Convert DEM GeoTIFF with multiple associated metadata files \n",
    "##### to single, consolidated GeoTIFF file\n",
    "\n",
    "# input path of geotiff with multiple metadata files\n",
    "input_multi_tif_path = r'../data/warren/dem_warren.tif'\n",
    "\n",
    "# output path of consolidated geotiff\n",
    "output_single_tif_path = r'../data/warren/dem_single_warren.tif'\n",
    "\n",
    "# custom helper function\n",
    "multi_tif_to_single_tif_conversion(input_multi_tif_path, output_single_tif_path)"
   ]
  },
  {
   "cell_type": "markdown",
   "metadata": {},
   "source": [
    "### Surficial Geologic Map"
   ]
  },
  {
   "cell_type": "code",
   "execution_count": 4,
   "metadata": {},
   "outputs": [
    {
     "name": "stdout",
     "output_type": "stream",
     "text": [
      "Output file already exists...\n"
     ]
    }
   ],
   "source": [
    "##### Covert geologic map GIS shapefile to GeoTIFF\n",
    "\n",
    "# input path to shapefile\n",
    "input_shapefile_path = r'../data/warren/geo_warren.shp'\n",
    "\n",
    "# field name containing geologic map unit symbols\n",
    "shapefile_field = 'Symbol'\n",
    "\n",
    "# reference geotiff to match geospatial metadata (DEM converted above)\n",
    "reference_tif_path = r'../data/warren/dem_single_warren.tif'\n",
    "\n",
    "# output geotiff path for newly converted shapefile to geotiff\n",
    "output_tif_path = r'../data/warren/geo_warren.tif'\n",
    "\n",
    "# custom helper function\n",
    "shapefile_to_tif_conversion(input_shapefile_path, shapefile_field, reference_tif_path, output_tif_path)"
   ]
  },
  {
   "cell_type": "markdown",
   "metadata": {},
   "source": [
    "## Hardin County"
   ]
  },
  {
   "cell_type": "markdown",
   "metadata": {},
   "source": [
    "### Digital Elevation Model"
   ]
  },
  {
   "cell_type": "code",
   "execution_count": 5,
   "metadata": {},
   "outputs": [
    {
     "name": "stdout",
     "output_type": "stream",
     "text": [
      "Output file already exists...\n"
     ]
    }
   ],
   "source": [
    "##### Convert DEM GeoTIFF with multiple associated metadata files \n",
    "##### to single, consolidated GeoTIFF file\n",
    "\n",
    "# input path of geotiff with multiple metadata files\n",
    "input_multi_tif_path = r'../data/hardin/dem_hardin.tif'\n",
    "\n",
    "# output path of consolidated geotiff\n",
    "output_single_tif_path = r'../data/hardin/dem_single_hardin.tif'\n",
    "\n",
    "# custom helper function\n",
    "multi_tif_to_single_tif_conversion(input_multi_tif_path, output_single_tif_path)"
   ]
  },
  {
   "cell_type": "markdown",
   "metadata": {},
   "source": [
    "### Surficial Geologic Map"
   ]
  },
  {
   "cell_type": "code",
   "execution_count": 3,
   "metadata": {},
   "outputs": [],
   "source": [
    "##### Covert geologic map GIS shapefile to GeoTIFF\n",
    "\n",
    "# input path to shapefile\n",
    "shapefile_path = r'../data/hardin/geo_hardin.shp'\n",
    "\n",
    "# field name containing geologic map unit symbols\n",
    "shapefile_field = 'Symbol'\n",
    "\n",
    "# reference geotiff to match geospatial extent and resolution\n",
    "reference_tif_path = r'../data/hardin/dem_single_hardin.tif'\n",
    "\n",
    "# output geotiff path for new shapefile to raster conversion\n",
    "output_tif_path = r'../data/hardin/geo_hardin.tif'\n",
    "\n",
    "# create geologic symbol string-to-integer map based on Warren County geologic map; all other map units will be defined as \"no data\"...\n",
    "geo_mapper_path = r'../data/warren/geo_warren.json'     # path to warren county symbol mapper (json file)\n",
    "with open(geo_mapper_path, 'r') as geo_mapper:          # open and read json\n",
    "    geo_dict = json.load(geo_mapper)                    # load json as dictionary\n",
    "\n",
    "# custom helper function\n",
    "shapefile_to_tif_conversion(shapefile_path, shapefile_field, reference_tif_path, output_tif_path, geo_dict)"
   ]
  }
 ],
 "metadata": {
  "kernelspec": {
   "display_name": "Python 3 (ipykernel)",
   "language": "python",
   "name": "python3"
  },
  "language_info": {
   "codemirror_mode": {
    "name": "ipython",
    "version": 3
   },
   "file_extension": ".py",
   "mimetype": "text/x-python",
   "name": "python",
   "nbconvert_exporter": "python",
   "pygments_lexer": "ipython3",
   "version": "3.12.3"
  }
 },
 "nbformat": 4,
 "nbformat_minor": 4
}
