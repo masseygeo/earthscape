{
 "cells": [
  {
   "cell_type": "markdown",
   "metadata": {},
   "source": [
    "# Imports & Settings"
   ]
  },
  {
   "cell_type": "code",
   "execution_count": 1,
   "metadata": {},
   "outputs": [],
   "source": [
    "from utils_data_prep import *\n",
    "\n",
    "import os\n",
    "import glob\n",
    "import json\n",
    "\n",
    "import geopandas as gpd\n",
    "import pandas as pd\n",
    "import numpy as np\n",
    "\n",
    "import rasterio\n",
    "from rasterio.plot import show\n",
    "\n",
    "import matplotlib.pyplot as plt\n",
    "from matplotlib.patches import Patch\n",
    "from matplotlib.colors import ListedColormap\n",
    "\n",
    "# set dataframe display options to show decimal format (not scientific notation)\n",
    "pd.options.display.float_format = '{:.2f}'.format"
   ]
  },
  {
   "cell_type": "markdown",
   "metadata": {},
   "source": [
    "# **KGS Geologic Maps**"
   ]
  },
  {
   "cell_type": "markdown",
   "metadata": {},
   "source": [
    "***OVERVIEW***\n",
    "* The Kentucky Geological Survey has focused their mapping efforts on detailed surficial geologic mapping across the state since 2004. This project will focus on the recently completed surficial geologic maps in and around Hardin and Warren Counties as they represent the most accurate and available geologic GIS datasets in the state.\n",
    "\n",
    "* The surficial geology of Hardin and Warren Counties is mostly composed of deposits from three geological processes: in-situ weathering of bedrock, gravity-driven transportation and deposition of sediments, and water-driven transportation and deposition of sediments. Lithologies derived from these main processes can be further subdivided based on specific textural, compositional, and topographic characteristics. There are seven map units used in this project, which are listed and described below.\n",
    "\n",
    "\n",
    "    1. **Artificial fill (af1).** Man-made deposits of soil, sand, gravel, concrete, asphalt, or other materials used to alter the landscape, typically associated with construction activities such as road building, land leveling, or embankment creation.\n",
    "\n",
    "    2. **Alluvium (Qal).** Unconsolidated clastic sediments, including clay, silt, sand, and gravel, deposited by fluvial processes in riverbeds, floodplains, or deltas, often characterized by stratification and sorting.\n",
    "    \n",
    "    3. **Alluvial fans (Qaf).** Cone-shaped deposits of sediment that form where high-gradient streams experience a sudden decrease in flow velocity, causing a rapid deposition of material ranging from fine silt to coarse gravel. Considered a sub-unit of alluvium.\n",
    "\n",
    "    4. **Alluvial terraces (Qat).** Fluvial sediments left behind on former floodplain levels as a river downcuts into its valley, forming step-like terraces that represent previous stages of river activity. Considered a sub-unit of alluvium.\n",
    "\n",
    "    5. **Colluvium (Qc).** Unsorted and unconsolidated material, primarily consisting of soil and rock fragments, that has accumulated along the sides of steep slopes due to gravitational forces, often mixed with organic material and poorly stratified.\n",
    "\n",
    "    6. **Colluvial accumulation zones (Qca).** Wedge-shaped deposits of colluvium at the bases of slopes where colluvium has accumulated due to the lack of gravitational force necessary for further sediment transportation. Considered a sub-unit of colluvium.\n",
    "    \n",
    "    7. **Residuum (Qr).** Weathered rock material that remains in situ above its parent bedrock, resulting from prolonged chemical and physical weathering processes, and often forming the basis for soil development directly over the source rock.\n",
    "\n",
    "***PURPOSE***\n",
    "* The MapUnitsPolys feature class contains polygons that depict the aereal extent of the surficial geologic map units that will be used as the labeled target dataset for training, validation, and testing."
   ]
  },
  {
   "cell_type": "markdown",
   "metadata": {},
   "source": [
    "## Warren County"
   ]
  },
  {
   "cell_type": "markdown",
   "metadata": {},
   "source": [
    "### *Surficial Geologic Map Unit Polygons*"
   ]
  },
  {
   "cell_type": "code",
   "execution_count": null,
   "metadata": {},
   "outputs": [],
   "source": [
    "###########################\n",
    "# Download Map Geodatabase\n",
    "###########################\n",
    "\n",
    "# url to download zipped geodatabase\n",
    "url = r''\n",
    "\n",
    "# output path to save geodatabase\n",
    "gdb_dir = r'../data/warren/geology'\n",
    "if not os.path.isdir(gdb_dir):\n",
    "    os.makedirs(gdb_dir)\n",
    "\n",
    "\n",
    "##### custom function to download geodatabase\n",
    "download_zip(url, gdb_dir)"
   ]
  },
  {
   "cell_type": "code",
   "execution_count": null,
   "metadata": {},
   "outputs": [],
   "source": [
    "##################################\n",
    "# Save Map Layer(s) as GeoJSON(s)\n",
    "##################################\n",
    "\n",
    "# path to geodatabase\n",
    "# gdb_path = glob.glob(r'../data/warren/geology/*.gdb')[0]\n",
    "gdb_path = r'../data/geology.gdb'\n",
    "\n",
    "# layer name to write as GeoJSON\n",
    "# map_layers = 'MapUnitPolys'\n",
    "map_layer = 'warren_geo'\n",
    "\n",
    "# path for output GeoJSON\n",
    "output_path = r'../data/warren/geology.geojson'\n",
    "\n",
    "\n",
    "##### save layer as GeoJSON\n",
    "gdf = gpd.read_file(gdb_path, layer=map_layer)\n",
    "gdf.to_file(output_path, driver='GeoJSON')"
   ]
  },
  {
   "cell_type": "code",
   "execution_count": null,
   "metadata": {},
   "outputs": [],
   "source": [
    "########################################\n",
    "# Convert to GeoTIFF with Metadata JSON\n",
    "########################################\n",
    "\n",
    "# path to GeoJSON to convert to image\n",
    "input_path = r'../data/warren/geology.geojson'\n",
    "\n",
    "# resolution of output image (in pixels)\n",
    "output_resolution = 5\n",
    "\n",
    "# attribute to use as category in raster (if none, then binary raster)\n",
    "attribute = 'Symbol'\n",
    "\n",
    "# path to output image (and JSON metadata)\n",
    "output_path = r'../data/warren/geology.tif'\n",
    "\n",
    "\n",
    "##### custom function to convert GeoJSON to GeoTIFF with JSON metadata\n",
    "gis_to_image(input_path, output_path, output_resolution, attribute)"
   ]
  },
  {
   "cell_type": "code",
   "execution_count": null,
   "metadata": {},
   "outputs": [],
   "source": [
    "#############################################\n",
    "# Visualize Labeled Target Dataset GeoTIFF\n",
    "#############################################\n",
    "\n",
    "# path to input GeoTIFF\n",
    "geo_path = r'../data/warren/geology.tif'\n",
    "\n",
    "# path to JSON metadata\n",
    "geo_meta_path = r'../data/warren/geology.json'\n",
    "\n",
    "\n",
    "##### visualize image\n",
    "fig, ax = plt.subplots(figsize=(8,8))\n",
    "\n",
    "# use JSON metadata for custom color map\n",
    "with open(geo_meta_path, 'r') as meta:\n",
    "    geo_meta = json.load(meta)\n",
    "\n",
    "colors = {'af1': '#636566', \n",
    "          'Qal': '#fdf5a4', \n",
    "          'Qaf': '#ffa1db', \n",
    "          'Qat': '#f9e465', \n",
    "          'Qc': '#d6c9a7', \n",
    "          'Qca': '#c49d83', \n",
    "          'Qr': '#b0acd6'}\n",
    "\n",
    "cmap = ListedColormap([colors[symbol] for symbol in geo_meta.keys()])\n",
    "\n",
    "# plot GeoTIFF with custom color map\n",
    "with rasterio.open(geo_path) as src:\n",
    "    data = src.read(1, masked=True)\n",
    "    ax.imshow(data, cmap=cmap)\n",
    "\n",
    "# plot custom legend\n",
    "handles = [Patch(color=colors[symbol], label=symbol) for symbol in geo_meta.keys()]\n",
    "ax.legend(handles=handles, bbox_to_anchor=(0.75, 0.4), loc='upper left', frameon=False)\n",
    "\n",
    "# adjust figure styling\n",
    "ax.set_title('Warren County Surficial Geology')\n",
    "ax.set_xlabel('X (pixels)')\n",
    "ax.set_ylabel('Y (pixels)')\n",
    "ax.spines['top'].set_visible(False)\n",
    "ax.spines['right'].set_visible(False)\n",
    "ax.spines['bottom'].set_position(('outward', 10))  # offset bottom axis\n",
    "ax.spines['left'].set_position(('outward', 10))    # offset left axis\n",
    "\n",
    "plt.tight_layout()\n",
    "plt.show()\n"
   ]
  },
  {
   "cell_type": "markdown",
   "metadata": {},
   "source": [
    "### *Dataset Boundary*"
   ]
  },
  {
   "cell_type": "code",
   "execution_count": null,
   "metadata": {},
   "outputs": [],
   "source": [
    "#################################\n",
    "# Warren County dataset boundary\n",
    "#################################\n",
    "# NOTE: Must use GeoTIFF instead of GeoJSON for boundary so that it aligns perfectly with pixels (vector GIS GeoJSON may not align with edges of GeoTIFF pixels)\n",
    "\n",
    "# path to geologic map image\n",
    "input_path = r'../data/warren/geology.tif'\n",
    "\n",
    "# path for output GeoJSON\n",
    "output_path = r'../data/warren/boundary.geojson'\n",
    "\n",
    "\n",
    "##### calculate boundary and save GeoJSON\n",
    "image_to_boundary(input_path, output_path)"
   ]
  },
  {
   "cell_type": "code",
   "execution_count": null,
   "metadata": {},
   "outputs": [],
   "source": [
    "#############################################\n",
    "# Warren County buffered dataset boundary\n",
    "#############################################\n",
    "# NOTE: buffered dataset created so that image calculations aren't potentially affected by edge effects\n",
    "\n",
    "# path to dataset boundary\n",
    "input_path = r'../data/warren/boundary.geojson'\n",
    "\n"
   ]
  },
  {
   "cell_type": "code",
   "execution_count": null,
   "metadata": {},
   "outputs": [],
   "source": [
    "fig, ax = plt.subplots()\n",
    "\n",
    "with rasterio.open(r'../data/warren/geology.tif') as src:\n",
    "    # print(src.meta)\n",
    "    show(src, ax=ax, cmap='tab20')\n",
    "\n",
    "gdf = gpd.read_file(r'../data/warren/boundary_image.geojson')\n",
    "# print(gdf.total_bounds)\n",
    "gdf.plot(ax=ax, facecolor='none', edgecolor='red', linewidth=1)\n",
    "\n",
    "ax.set_axis_off()"
   ]
  },
  {
   "cell_type": "code",
   "execution_count": 45,
   "metadata": {},
   "outputs": [],
   "source": [
    "from shapely.geometry import MultiPolygon, Polygon"
   ]
  },
  {
   "cell_type": "code",
   "execution_count": 56,
   "metadata": {},
   "outputs": [
    {
     "data": {
      "text/html": [
       "<div>\n",
       "<style scoped>\n",
       "    .dataframe tbody tr th:only-of-type {\n",
       "        vertical-align: middle;\n",
       "    }\n",
       "\n",
       "    .dataframe tbody tr th {\n",
       "        vertical-align: top;\n",
       "    }\n",
       "\n",
       "    .dataframe thead th {\n",
       "        text-align: right;\n",
       "    }\n",
       "</style>\n",
       "<table border=\"1\" class=\"dataframe\">\n",
       "  <thead>\n",
       "    <tr style=\"text-align: right;\">\n",
       "      <th></th>\n",
       "      <th>Symbol</th>\n",
       "      <th>Shape_Length</th>\n",
       "      <th>Shape_Area</th>\n",
       "      <th>geometry</th>\n",
       "    </tr>\n",
       "  </thead>\n",
       "  <tbody>\n",
       "    <tr>\n",
       "      <th>0</th>\n",
       "      <td>Qaf</td>\n",
       "      <td>1058.75</td>\n",
       "      <td>44869.98</td>\n",
       "      <td>MULTIPOLYGON (((4734911.111 3480577.778, 47348...</td>\n",
       "    </tr>\n",
       "    <tr>\n",
       "      <th>1</th>\n",
       "      <td>Qaf</td>\n",
       "      <td>727.09</td>\n",
       "      <td>27797.94</td>\n",
       "      <td>MULTIPOLYGON (((4731444.445 3483200.000, 47314...</td>\n",
       "    </tr>\n",
       "    <tr>\n",
       "      <th>2</th>\n",
       "      <td>Qaf</td>\n",
       "      <td>2293.02</td>\n",
       "      <td>235450.50</td>\n",
       "      <td>MULTIPOLYGON (((4678602.133 3495836.966, 46786...</td>\n",
       "    </tr>\n",
       "    <tr>\n",
       "      <th>3</th>\n",
       "      <td>Qaf</td>\n",
       "      <td>981.51</td>\n",
       "      <td>26300.80</td>\n",
       "      <td>MULTIPOLYGON (((4735406.580 3496360.702, 47354...</td>\n",
       "    </tr>\n",
       "    <tr>\n",
       "      <th>4</th>\n",
       "      <td>Qaf</td>\n",
       "      <td>636.78</td>\n",
       "      <td>15741.12</td>\n",
       "      <td>MULTIPOLYGON (((4734605.035 3499223.091, 47346...</td>\n",
       "    </tr>\n",
       "  </tbody>\n",
       "</table>\n",
       "</div>"
      ],
      "text/plain": [
       "  Symbol  Shape_Length  Shape_Area  \\\n",
       "0    Qaf       1058.75    44869.98   \n",
       "1    Qaf        727.09    27797.94   \n",
       "2    Qaf       2293.02   235450.50   \n",
       "3    Qaf        981.51    26300.80   \n",
       "4    Qaf        636.78    15741.12   \n",
       "\n",
       "                                            geometry  \n",
       "0  MULTIPOLYGON (((4734911.111 3480577.778, 47348...  \n",
       "1  MULTIPOLYGON (((4731444.445 3483200.000, 47314...  \n",
       "2  MULTIPOLYGON (((4678602.133 3495836.966, 46786...  \n",
       "3  MULTIPOLYGON (((4735406.580 3496360.702, 47354...  \n",
       "4  MULTIPOLYGON (((4734605.035 3499223.091, 47346...  "
      ]
     },
     "execution_count": 56,
     "metadata": {},
     "output_type": "execute_result"
    }
   ],
   "source": [
    "#####\n",
    "# Warren County Dataset Boundary\n",
    "\n",
    "# path to GeoJSON of map unit polygons\n",
    "input_path = r'../data/geology.gdb'\n",
    "\n",
    "gdf = gpd.read_file(input_path, layer='warren_geo')\n",
    "gdf.head()"
   ]
  },
  {
   "cell_type": "code",
   "execution_count": 57,
   "metadata": {},
   "outputs": [
    {
     "name": "stdout",
     "output_type": "stream",
     "text": [
      "21\n"
     ]
    }
   ],
   "source": [
    "if gdf.is_valid.all():\n",
    "    print('valid')\n",
    "else:\n",
    "    print(len(gdf[~gdf.is_valid]))"
   ]
  },
  {
   "cell_type": "code",
   "execution_count": 58,
   "metadata": {},
   "outputs": [
    {
     "name": "stdout",
     "output_type": "stream",
     "text": [
      "valid\n"
     ]
    }
   ],
   "source": [
    "# gdf['geometry'] = gdf['geometry'].buffer(0)\n",
    "gdf['geometry'] = gdf['geometry'].buffer(0.01).buffer(-0.01)\n",
    "\n",
    "if gdf.is_valid.all():\n",
    "    print('valid')\n",
    "else:\n",
    "    print(len(gdf[~gdf.is_valid]))"
   ]
  },
  {
   "cell_type": "code",
   "execution_count": 59,
   "metadata": {},
   "outputs": [
    {
     "name": "stdout",
     "output_type": "stream",
     "text": [
      "poly\n"
     ]
    }
   ],
   "source": [
    "b = gdf.unary_union\n",
    "if isinstance(b, MultiPolygon):\n",
    "    print('multi')\n",
    "elif isinstance(b, Polygon):\n",
    "    print('poly')"
   ]
  },
  {
   "cell_type": "code",
   "execution_count": 63,
   "metadata": {},
   "outputs": [],
   "source": [
    "# b = b.simplify(tolerance=5, preserve_topology=True)"
   ]
  },
  {
   "cell_type": "code",
   "execution_count": 64,
   "metadata": {},
   "outputs": [
    {
     "name": "stdout",
     "output_type": "stream",
     "text": [
      "1111.053223088522\n"
     ]
    }
   ],
   "source": [
    "largest = 0\n",
    "for hole in b.interiors:\n",
    "    x = Polygon(hole)\n",
    "    if x.area > largest:\n",
    "        largest = x.area\n",
    "print(largest)"
   ]
  },
  {
   "cell_type": "code",
   "execution_count": 65,
   "metadata": {},
   "outputs": [
    {
     "data": {
      "text/plain": [
       "<Axes: >"
      ]
     },
     "execution_count": 65,
     "metadata": {},
     "output_type": "execute_result"
    },
    {
     "data": {
      "image/png": "[encoded data removed]",
      "text/plain": [
       "<Figure size 640x480 with 1 Axes>"
      ]
     },
     "metadata": {},
     "output_type": "display_data"
    }
   ],
   "source": [
    "gpd.GeoDataFrame(geometry=[b], crs=gdf.crs).plot()"
   ]
  },
  {
   "cell_type": "code",
   "execution_count": null,
   "metadata": {},
   "outputs": [],
   "source": []
  },
  {
   "cell_type": "code",
   "execution_count": null,
   "metadata": {},
   "outputs": [],
   "source": []
  },
  {
   "cell_type": "code",
   "execution_count": null,
   "metadata": {},
   "outputs": [],
   "source": [
    "###########################################################\n",
    "# Warren County dataset boundary & buffered boundary\n",
    "###########################################################\n",
    "\n",
    "# path to geodatabase containing boundary feature class\n",
    "gdb_path = r'../data/geology.gdb'\n",
    "\n",
    "# layer name of boundary feature class\n",
    "boundary_layer = r'warren_geo_boundary'\n",
    "\n",
    "# path to save output as GeoJSON\n",
    "boundary_output_path = r'../data/warren/boundary.geojson'\n",
    "\n",
    "# set buffer distance in spatial units of feature class (feet in this case)\n",
    "# buffer distance should be enough to mitigate edge effects of any DEM derivative terrain feature calculations\n",
    "buffer_distance = 1000\n",
    "\n",
    "# path to save buffered output as GeoJSON\n",
    "buffered_output_path = f\"../data/warren/boundary_buffer{buffer_distance}.geojson\"\n",
    "\n",
    "\n",
    "##### create boundary GeoJSON if it doesn't exist\n",
    "if os.path.isfile(boundary_output_path):\n",
    "    print(f\"File - {boundary_output_path} - already exists\")\n",
    "else:\n",
    "    gdf = gpd.read_file(gdb_path, layer=boundary_layer)\n",
    "    gdf.to_file(boundary_output_path, driver='GeoJSON')\n",
    "\n",
    "\n",
    "##### create buffered boundary GeoJSON if it doesn't exist\n",
    "if os.path.isfile(buffered_output_path):\n",
    "    print(f\"File - {buffered_output_path} - already exists\")\n",
    "else:\n",
    "    gdf = gpd.read_file(gdb_path, layer=boundary_layer)\n",
    "    gdf['geometry'] = gdf['geometry'].buffer(buffer_distance)\n",
    "    gdf.to_file(buffered_output_path, driver='GeoJSON')"
   ]
  },
  {
   "cell_type": "markdown",
   "metadata": {},
   "source": [
    "## Hardin County"
   ]
  },
  {
   "cell_type": "code",
   "execution_count": null,
   "metadata": {},
   "outputs": [],
   "source": []
  },
  {
   "cell_type": "markdown",
   "metadata": {},
   "source": [
    "# **KyFromAbove Tile Index**"
   ]
  },
  {
   "cell_type": "markdown",
   "metadata": {},
   "source": [
    "***OVERVIEW***\n",
    "* The KyFromAbove 5K tile index is accessible as a geodatabase that contains three polygon feature classes for downloading the digital elevation model (DEM), aerial imagery, and LiDAR point cloud datasets as small individual tiles. Each feature class represents a grid of tiles that represent individual DEM, aerial imagery, or point cloud GeoTIFF images that can be downloaded. Each tile has a variety of attributes including download URLs.\n",
    "\n",
    "***PURPOSE***\n",
    "* The tile index will be used to access the appropriate DEM and aerial imagery GeoTIFF images that cover the area of the target map datasets."
   ]
  },
  {
   "cell_type": "code",
   "execution_count": null,
   "metadata": {},
   "outputs": [],
   "source": [
    "#################################################\n",
    "# Download & Extract Kentucky index tile dataset\n",
    "#################################################\n",
    "\n",
    "# path to save tile index zip file\n",
    "download_path = r'../data/KyFromAbove_Data_Product_Tile_Grids.gdb.zip'\n",
    "\n",
    "\n",
    "###### get tile index files or handle existing\n",
    "if len(glob.glob(r'../data/*.geojson')) > 0:\n",
    "    for file in glob.glob(r'../data/*.geojson'):\n",
    "        print(f\"File - {file} - already exists...\")\n",
    "else:\n",
    "    # custom function to download tile index, read geodatabase, and save feature classes as geojsons\n",
    "    get_tile_index(download_path)\n",
    "\n",
    "# delete point cloud index file\n",
    "for file in glob.glob(r'../data/*.geojson'):\n",
    "    if 'pointcloud' in file.lower():\n",
    "        os.remove(file)"
   ]
  },
  {
   "cell_type": "markdown",
   "metadata": {},
   "source": [
    "## Warren County"
   ]
  },
  {
   "cell_type": "code",
   "execution_count": null,
   "metadata": {},
   "outputs": [],
   "source": [
    "##############################################\n",
    "# extract tiles that intersect warren county\n",
    "##############################################\n",
    "\n",
    "# list of tile index geojson file paths\n",
    "index_paths = glob.glob(r'../data/*.geojson')\n",
    "\n",
    "# path to labeled dataset boundary file (use buffered boundary)\n",
    "boundary_path = glob.glob(r'../data/warren/boundary_buffer*.geojson')[0]\n",
    "\n",
    "\n",
    "###### iterate through each index (should be dem & aerial)\n",
    "for path in index_paths:\n",
    "\n",
    "    # get filename of index\n",
    "    filename = os.path.basename(path) \n",
    "    \n",
    "    # create output path\n",
    "    output_path = f\"../data/warren/warren_{filename}\"\n",
    "\n",
    "    if os.path.isfile(output_path):\n",
    "        print(f\"File - {output_path} - already exists...\")\n",
    "    else:\n",
    "        # custom function to get tiles intersecting boundary and save as output geojson\n",
    "        get_intersecting_index_tiles(path, boundary_path, output_path)"
   ]
  },
  {
   "cell_type": "code",
   "execution_count": null,
   "metadata": {},
   "outputs": [],
   "source": [
    "##################################################\n",
    "# visualize coverage of index tiles and datasets\n",
    "##################################################\n",
    "\n",
    "# boundary path\n",
    "boundary_path = r'../data/warren/boundary.geojson'\n",
    "\n",
    "# buffered boundary path\n",
    "buffered_path = glob.glob(r'../data/warren/boundary_buffer*.geojson')[0]\n",
    "\n",
    "# get list of index geojsons for warren county (excluding buffered boundary geojson)\n",
    "index_paths = [file for file in glob.glob(r'../data/warren/*.geojson') if not 'boundary' in file]\n",
    "\n",
    "###### plot boundaries and index tiles...\n",
    "fig, ax = plt.subplots(ncols=2, figsize=(10,8))\n",
    "\n",
    "# read boundares as geodataframes\n",
    "boundary = gpd.read_file(boundary_path)\n",
    "buffered = gpd.read_file(buffered_path)\n",
    "\n",
    "# iterate through list of geojson index paths (dem & aerial)\n",
    "for idx, path in enumerate(index_paths):\n",
    "    index = gpd.read_file(path)\n",
    "    boundary.plot(ax=ax[idx])\n",
    "    buffered.plot(ax=ax[idx], edgecolor='red', facecolor='none')\n",
    "    index.plot(ax=ax[idx], edgecolor='k', facecolor='none')\n",
    "    ax[idx].set_title(os.path.basename(path), style='italic', fontsize=8)\n",
    "    ax[idx].set_axis_off()\n",
    "\n",
    "plt.tight_layout()\n",
    "plt.show()"
   ]
  },
  {
   "cell_type": "markdown",
   "metadata": {},
   "source": [
    "## Hardin County"
   ]
  },
  {
   "cell_type": "code",
   "execution_count": null,
   "metadata": {},
   "outputs": [],
   "source": []
  },
  {
   "cell_type": "markdown",
   "metadata": {},
   "source": [
    "# DEM"
   ]
  },
  {
   "cell_type": "markdown",
   "metadata": {},
   "source": [
    "***OVERVIEW***\n",
    "* The Kentucky statewide digital elevation model (DEM) is derived from airborne lidar collected since 2010. The data collection prograrm has been divided into phases based on time and resolution, with Phase 1 resulting in a 5 foot resolution DEM, and a 2 foot resolution DEM for Phase 2. The data are publicly available as downloads of small tiles in either .img (with associated metadata files) or .tif (GeoTIFF).\n",
    "\n",
    "***PURPOSE***\n",
    "* The DEM is an essential base layer for interpreting and delineating surficial geologic map units, which will be used in this project. Additionally, multiple terrain features and indices can be directly derived from the DEM and provide supplementary information about topography, weathering, water drainage patterns, and vegetation, which have direct impact on identifying surficial geologic map units; some of these features will be calculated below."
   ]
  },
  {
   "cell_type": "markdown",
   "metadata": {},
   "source": [
    "## *Warren County*"
   ]
  },
  {
   "cell_type": "code",
   "execution_count": null,
   "metadata": {},
   "outputs": [],
   "source": [
    "###############################################\n",
    "# download DEM tiles (.tif) for Warren County\n",
    "###############################################\n",
    "\n",
    "# path to geojson dem tile index\n",
    "index_path = r'../data/warren/warren_KYAPED_5FT_DEM_Tile_Index.geojson'\n",
    "\n",
    "# field containing unique tile id for file naming\n",
    "id_field = 'TileName'\n",
    "\n",
    "# field containing geotiff download url\n",
    "url_field = 'Phase1_AWS_url'\n",
    "\n",
    "# output directory to save downloaded tiles\n",
    "output_dir = r'../data/warren/dem_tiles'\n",
    "\n",
    "\n",
    "###### call custom function to download tiles\n",
    "download_data_tiles(index_path, id_field, url_field, output_dir)"
   ]
  },
  {
   "cell_type": "code",
   "execution_count": null,
   "metadata": {},
   "outputs": [],
   "source": [
    "#############################################\n",
    "# Mosaic DEM tiles into single DEM GeoTIFF\n",
    "#############################################\n",
    "\n",
    "# path to buffered boundary geojson file\n",
    "boundary_path = glob.glob(r'../data/warren/boundary_buffer*.geojson')[0]\n",
    "\n",
    "# path to geojson containing tile polygons\n",
    "index_path = r'../data/warren/warren_KYAPED_5FT_DEM_Tile_Index.geojson'\n",
    "\n",
    "# directory containing dem tiles\n",
    "dem_tile_dir = r'../data/warren/dem_tiles'\n",
    "\n",
    "# path for output dem\n",
    "output_dem_path = r'../data/warren/dem.tif'\n",
    "\n",
    "\n",
    "##### get lists of paths of edge tiles & contained tiles\n",
    "within_tile_paths, edge_tile_paths = get_contained_and_edge_tile_paths(index_path, boundary_path, dem_tile_dir)\n",
    "\n",
    "\n",
    "##### iterate through edge tiles and clip to dataset boundary\n",
    "for tile_path in edge_tile_paths:\n",
    "    clip_image_to_boundary(tile_path, boundary_path, output_tif_path=None)\n",
    "\n",
    "\n",
    "##### get list of clipped edge tile paths & combine with contained tile paths\n",
    "clipped_edge_tile_paths = glob.glob(f\"{dem_tile_dir}/*clip.tif\")\n",
    "tile_paths_list = within_tile_paths + clipped_edge_tile_paths\n",
    "\n",
    "\n",
    "##### mosaic clipped edge and contained tiles into single dem and save\n",
    "mosaic_image_tiles(tile_paths_list, output_dem_path)\n",
    "\n",
    "\n",
    "##### clean up clipped tiles (keep original full tiles)\n",
    "for path in clipped_edge_tile_paths:\n",
    "    os.remove(path)"
   ]
  },
  {
   "cell_type": "code",
   "execution_count": null,
   "metadata": {},
   "outputs": [],
   "source": [
    "##########################\n",
    "# visualize clipped dem\n",
    "##########################\n",
    "\n",
    "dem_path = r'../data/warren/dem.tif'\n",
    "\n",
    "fig, ax = plt.subplots(figsize=(10,10))\n",
    "\n",
    "with rasterio.open(dem_path) as src:\n",
    "    data = src.read(1, masked=True)\n",
    "    min_val = np.min(data)\n",
    "    max_val = np.max(data)\n",
    "    dem = ax.imshow(data, cmap='viridis', interpolation='bicubic')\n",
    "    src.close()\n",
    "\n",
    "cbar = fig.colorbar(dem, ax=ax, orientation='vertical', shrink=0.5)\n",
    "cbar.set_ticks([min_val, max_val])\n",
    "cbar.set_label('Elevation (feet)', labelpad=-70)\n",
    "\n",
    "ax.set_title('Warren County DEM')\n",
    "ax.set_xlabel('X (pixels)')\n",
    "ax.set_ylabel('Y (pixels)')\n",
    "ax.spines['top'].set_visible(False)\n",
    "ax.spines['right'].set_visible(False)\n",
    "ax.spines['bottom'].set_position(('outward', 10))  # offset bottom axis\n",
    "ax.spines['left'].set_position(('outward', 10))    # offset left axis\n",
    "    \n",
    "plt.tight_layout()\n",
    "plt.show()\n",
    "\n",
    "# ax.set_axis_off()\n",
    "# plt.savefig(r'../data/warren/dem.png', bbox_inches='tight', pad_inches=0, transparent=True)"
   ]
  },
  {
   "cell_type": "markdown",
   "metadata": {},
   "source": [
    "## Hardin County"
   ]
  },
  {
   "cell_type": "code",
   "execution_count": null,
   "metadata": {},
   "outputs": [],
   "source": []
  },
  {
   "cell_type": "markdown",
   "metadata": {},
   "source": [
    "# **Terrain Features**"
   ]
  },
  {
   "cell_type": "markdown",
   "metadata": {},
   "source": [
    "***OVERVIEW***\n",
    "* Terrain features are calculated using the DEM from above in order to characterize topography and capture features relevant to geologic map unit targets...\n",
    "\n",
    "***PURPOSE***\n",
    "* There are XX terrain features calculated below, which are listed and briefly discussed below.\n",
    "    1. **Slope.**\n",
    "    2. **Aspect.**\n",
    "    3. **Profile Curvature.**\n",
    "    4. **Plan Curvature.**\n",
    "    5. **Standard Deviation of Slope.**\n",
    "    6. **Topographic Position Index (TPI).**\n",
    "    7. **Height Above Nearest Drainage (HAND).**\n",
    "    8. **Elevation Contour Lines.**"
   ]
  },
  {
   "cell_type": "markdown",
   "metadata": {},
   "source": [
    "## Warren County"
   ]
  },
  {
   "cell_type": "code",
   "execution_count": null,
   "metadata": {},
   "outputs": [],
   "source": []
  },
  {
   "cell_type": "markdown",
   "metadata": {},
   "source": [
    "## Hardin County"
   ]
  },
  {
   "cell_type": "code",
   "execution_count": null,
   "metadata": {},
   "outputs": [],
   "source": []
  },
  {
   "cell_type": "markdown",
   "metadata": {},
   "source": [
    "# **Aerial Imagery**"
   ]
  },
  {
   "cell_type": "markdown",
   "metadata": {},
   "source": [
    "***OVERVIEW***\n",
    "* Aerial imagery has been collected simultaneously with lidar through the KyFromAbove program with resolutions between 1 foot to 3 inches, and complete statewide coverage of 6 inches. Imagery was collected for true color imagery with three bands (RGB), but near infrared has been captured as a fourth band in some areas; however, only true color imagery is available for download.\n",
    "\n",
    "***PURPOSE***\n",
    "* The four-band aerial imagery is most directly beneficial for artificial fill and water..."
   ]
  },
  {
   "cell_type": "markdown",
   "metadata": {},
   "source": [
    "## Warren County"
   ]
  },
  {
   "cell_type": "code",
   "execution_count": null,
   "metadata": {},
   "outputs": [],
   "source": [
    "###################################################\n",
    "# Download aerial imagery tiles for Warren County\n",
    "###################################################\n",
    "\n",
    "# path to geojson aerial imagery tile index\n",
    "index_path = r'../data/warren/warren_KYAPED_Aerial_Tile_Index.geojson'\n",
    "\n",
    "# field containing unique tile id for file naming\n",
    "id_field = 'TileName'\n",
    "\n",
    "# field containing geotiff download url (only available column for image downloads, 6 inch resolution)\n",
    "url_field = 'Boxzip2021'\n",
    "\n",
    "# output directory to save downloaded tiles\n",
    "output_dir = r'../data/warren/aerial_tiles'\n",
    "\n",
    "\n",
    "##### call custom function to download tiles\n",
    "download_data_tiles(index_path, id_field, url_field, output_dir)"
   ]
  },
  {
   "cell_type": "code",
   "execution_count": null,
   "metadata": {},
   "outputs": [],
   "source": [
    "#########################\n",
    "# Convert RGB+IR dtypes\n",
    "#########################\n",
    "\n",
    "# paths for aerial tiles\n",
    "aerial_tile_paths = glob.glob(r'../data/warren/aerial_tiles/*.*')\n",
    "\n",
    "\n",
    "##### custom function for converting aerial image tiles to float32 with nan for nodata\n",
    "for path in aerial_tile_paths:\n",
    "    if '.tif' in path:\n",
    "        convert_image_dtype(path)\n",
    "\n",
    "\n",
    "##### delete original uint8 files & keep float32 files (optional)\n",
    "for path in aerial_tile_paths:\n",
    "    if '_f32' in path:\n",
    "        continue\n",
    "    else:\n",
    "        os.remove(path)"
   ]
  },
  {
   "cell_type": "code",
   "execution_count": null,
   "metadata": {},
   "outputs": [],
   "source": [
    "############################################################\n",
    "# Mosaic aerial imagery tiles into single channel GeoTIFFs\n",
    "############################################################\n",
    "\n",
    "# path to geojson containing tile polygons\n",
    "index_path = r'../data/warren/warren_KYAPED_Aerial_Tile_Index.geojson'\n",
    "\n",
    "# path to buffered boundary geojson file\n",
    "boundary_path = glob.glob(r'../data/warren/boundary_buffer*.geojson')[0]\n",
    "\n",
    "# path to directory containing aerial tiles\n",
    "aerial_tile_dir = r'../data/warren/aerial_tiles'\n",
    "\n",
    "# path to reference image for alignment (match to DEM)\n",
    "reference_path = r'../data/warren/dem.tif'\n",
    "\n",
    "\n",
    "##### get lists of paths of edge tiles & contained tiles\n",
    "within_tile_paths, edge_tile_paths = get_contained_and_edge_tile_paths(index_path, boundary_path, aerial_tile_dir, file_suffix='_f32.tif')\n",
    "\n",
    "\n",
    "##### iterate through edge tiles and clip to dataset boundary\n",
    "for tile_path in edge_tile_paths:\n",
    "    clip_image_to_boundary(tile_path, boundary_path, output_tif_path=None)\n",
    "\n",
    "\n",
    "##### get list of clipped edge tile paths & combine with contained tile paths\n",
    "clipped_edge_tile_paths = glob.glob(f\"{aerial_tile_dir}/*clip.tif\")\n",
    "tile_paths_list = within_tile_paths + clipped_edge_tile_paths\n",
    "\n",
    "\n",
    "##### iterate through bands and mosaic clipped edge and contained tiles into single image and save...\n",
    "band_names = ['red', 'green', 'blue', 'ir']\n",
    "for i, band in enumerate(band_names, start=1):\n",
    "    aerial_path = f\"../data/warren/aerial_{band}_5ft.tif\"\n",
    "    mosaic_image_tiles(tile_paths_list, aerial_path, band_number=i, resample=(5,5))\n",
    "    reproject_image_to_reference(aerial_path, reference_path)\n",
    "\n",
    "\n",
    "# ##### delete all individual tiles in directory (for space management)\n",
    "# for path in glob.glob(aerial_tile_dir):\n",
    "#     os.remove(path)"
   ]
  },
  {
   "cell_type": "code",
   "execution_count": null,
   "metadata": {},
   "outputs": [],
   "source": [
    "# from rasterio.warp import reproject, Resampling\n",
    "\n",
    "# def reproject_image_to_reference(image_path, reference_path):\n",
    "\n",
    "#     with rasterio.open(image_path) as src:\n",
    "#         src_profile = src.profile\n",
    "#         src_data = src.read(1)\n",
    "    \n",
    "#     with rasterio.open(reference_path) as ref:\n",
    "#         ref_profile = ref.profile\n",
    "#         ref_data = ref.read(1)\n",
    "    \n",
    "#     dst_data = np.empty_like(ref_data)\n",
    "\n",
    "#     reproject(source=src_data, \n",
    "#               destination=dst_data, \n",
    "#               src_transform=src_profile['transform'], \n",
    "#               src_crs=src_profile['crs'], \n",
    "#               dst_transform=ref_profile['transform'], \n",
    "#               dst_crs=ref_profile['crs'], \n",
    "#               dst_res=ref_profile['transform'][0], \n",
    "#               resampling=Resampling.bilinear)\n",
    "\n",
    "#     dst_meta = ref.meta.copy()\n",
    "\n",
    "#     with rasterio.open(image_path, 'w', **dst_meta) as dst:\n",
    "#         dst.write(dst_data, 1)\n",
    "    "
   ]
  },
  {
   "cell_type": "code",
   "execution_count": null,
   "metadata": {},
   "outputs": [],
   "source": [
    "####################################\n",
    "# Visualize clipped aerial images\n",
    "####################################\n",
    "\n",
    "# paths to single band aerial images\n",
    "aerial_paths = glob.glob(r'../data/warren/aerial*.tif')\n",
    "\n",
    "fig, ax = plt.subplots(nrows=2, ncols=2, figsize=(15,13))\n",
    "ax = ax.ravel()\n",
    "\n",
    "for idx, path in enumerate(zip(aerial_paths, ['Reds', 'Greens', 'Blues', 'coolwarm'])):\n",
    "    with rasterio.open(path[0]) as src:\n",
    "        data = src.read(1)\n",
    "        ax[idx].imshow(data, cmap=path[1], interpolation='bicubic')\n",
    "        ax[idx].set_title(['Red', 'Green', 'Blue', 'Infrared'][idx], style='italic')\n",
    "        ax[idx].set_axis_off()\n",
    "        src.close()\n",
    "\n",
    "        # fig, ax = plt.subplots(figsize=(10,10))\n",
    "        # ax.imshow(data, cmap=path[1], interpolation='bicubic')\n",
    "        # ax.set_axis_off()\n",
    "        # img_name = ['Red', 'Green', 'Blue', 'Infrared'][idx]\n",
    "        # plt.savefig(f\"../data/warren/aerial_{img_name}_5ft.png\", bbox_inches='tight', pad_inches=0, transparent=True)\n",
    "\n",
    "plt.suptitle('Warren County Aerial RGB+IR Imagery')\n",
    "plt.tight_layout()\n",
    "plt.show()"
   ]
  },
  {
   "cell_type": "markdown",
   "metadata": {},
   "source": [
    "## Hardin County"
   ]
  },
  {
   "cell_type": "code",
   "execution_count": null,
   "metadata": {},
   "outputs": [],
   "source": []
  },
  {
   "cell_type": "markdown",
   "metadata": {},
   "source": [
    "# **NHDPlus HR Hydrography**"
   ]
  },
  {
   "cell_type": "markdown",
   "metadata": {},
   "source": [
    "***OVERVIEW***\n",
    "* The NHDPlus HR is a geospatial dataset depicting the flow of water across the Nation's landscapes and through the stream network. The NHDPlus HR was built using the National Hydrography Dataset High Resolution data at 1:24,000 scale or more detailed, the 10 meter 3D Elevation Program data, and the nationally complete Watershed Boundary Dataset. For more details, see: https://pubs.usgs.gov/publication/ofr20191096.\n",
    "\n",
    "***PURPOSE***\n",
    "* The NHDPlus HR stream lines and water bodies..."
   ]
  },
  {
   "cell_type": "markdown",
   "metadata": {},
   "source": [
    "## Warren County"
   ]
  },
  {
   "cell_type": "code",
   "execution_count": null,
   "metadata": {},
   "outputs": [],
   "source": [
    "################################################\n",
    "# Download NHDPlus HR Dataset for Warren County\n",
    "################################################\n",
    "\n",
    "# url for HUC 4 Basin 0511 (covers Warren County area)\n",
    "nhd_url = r'https://prd-tnm.s3.amazonaws.com/StagedProducts/Hydrography/NHDPlusHR/VPU/Current/GDB/NHDPLUS_H_0511_HU4_GDB.zip'\n",
    "\n",
    "# directory to save hydrography\n",
    "nhd_dir = r'../data/warren/nhdplushr'\n",
    "if not os.path.isdir(nhd_dir):\n",
    "    os.makedirs(nhd_dir)\n",
    "\n",
    "# path to save NHDPlus HR geodatabase\n",
    "nhd_output_path = r'../data/warren/nhdplushr/nhd.zip'\n",
    "\n",
    "# custom function to download zip, extract contents, and delete zip\n",
    "download_zip(nhd_url, nhd_output_path)"
   ]
  },
  {
   "cell_type": "code",
   "execution_count": null,
   "metadata": {},
   "outputs": [],
   "source": [
    "###################################################################\n",
    "# Clip to Flowline & Waterbody feature classes to Dataset Boundary\n",
    "###################################################################\n",
    "\n",
    "# path to NHDPlus HR geodatabase\n",
    "nhd_gdb_path = glob.glob(r'../data/warren/nhdplushr/*.gdb')[0]\n",
    "\n",
    "# path to dataset boundary GeoJSON\n",
    "boundary_path = glob.glob(r'../data/warren/*boundary*.geojson')[0]\n",
    "\n",
    "# iterate through specified layers in geodatabase and clip to dataset boundary\n",
    "# (NHDFlowline & NHDWaterbody in Hydrography feature classes for this project)\n",
    "for gdb_layer in ['NHDFlowline', 'NHDWaterbody']:\n",
    "    output_path = f\"../data/warren/nhdplushr/{gdb_layer}.geojson\"\n",
    "    if not os.path.isfile(output_path):\n",
    "        clip_spatial_to_boundary(nhd_gdb_path, boundary_path, output_path, gdb_layer)\n",
    "\n",
    "# delete geodatabase after clipping to dataset boundary\n",
    "shutil.rmtree(nhd_gdb_path)"
   ]
  },
  {
   "cell_type": "code",
   "execution_count": null,
   "metadata": {},
   "outputs": [],
   "source": [
    "####################\n",
    "# Convert to Images\n",
    "####################\n",
    "\n",
    "nhd_gis_files = glob.glob(r'../data/warren/nhdplushr/*.geojson')\n",
    "reference_image = r'../data/warren/dem.tif'\n",
    "\n",
    "for nhd_path in nhd_gis_files:\n",
    "    output_filename = os.path.basename(nhd_path)\n",
    "    output_filename = os.path.splitext(output_filename)[0]\n",
    "    output_path = f\"../data/warren/{output_filename}.tif\"\n",
    "    convert_spatial_to_reference_image(nhd_path, reference_image, output_path, attribute=None)"
   ]
  },
  {
   "cell_type": "code",
   "execution_count": null,
   "metadata": {},
   "outputs": [],
   "source": [
    "#######################################\n",
    "# Visualize Flowline & Waterbody (GIS) \n",
    "#######################################\n",
    "\n",
    "fig, ax = plt.subplots(figsize=(7, 7))\n",
    "\n",
    "gdf_flowline = gpd.read_file(r'../data/warren/nhdplushr/NHDFlowline.geojson')\n",
    "gdf_waterbody = gpd.read_file(r'../data/warren/nhdplushr/NHDWaterbody.geojson')\n",
    "gdf_boundary = gpd.read_file(glob.glob(r'../data/warren/boundary_buffer*.geojson')[0])\n",
    "\n",
    "gdf_boundary.plot(ax=ax, color='grey')\n",
    "gdf_flowline.plot(ax=ax, color='#6EACDA', linewidth=1)\n",
    "gdf_waterbody.plot(ax=ax, color='#03346E')\n",
    "\n",
    "ax.set_axis_off()\n",
    "ax.set_title('Warren County, NHDPlus HR Dataset\\n(NHDFlowline & NHDWaterbody)', y=0.95)\n",
    "plt.tight_layout()\n",
    "plt.show()"
   ]
  },
  {
   "cell_type": "code",
   "execution_count": null,
   "metadata": {},
   "outputs": [],
   "source": [
    "###########################################\n",
    "# Visualize Flowline & Waterbody (Images) \n",
    "###########################################\n",
    "\n",
    "flowline_path = r'../data/warren/NHDFlowline.tif'\n",
    "\n",
    "waterbody_path = r'../data/warren/NHDWaterbody.tif'\n",
    "\n",
    "fig, ax = plt.subplots(ncols=2, figsize=(12,6))\n",
    "\n",
    "with rasterio.open(flowline_path, 'r') as flowline:\n",
    "    show(flowline, ax=ax[0])\n",
    "\n",
    "with rasterio.open(waterbody_path, 'r') as waterbody:\n",
    "    show(waterbody, ax=ax[1])\n",
    "\n",
    "for axes in ax:\n",
    "    axes.set_axis_off()\n",
    "ax[0].set_title('Flowline', style='italic')\n",
    "ax[1].set_title('Waterbody', style='italic')\n",
    "plt.suptitle('NHDPlus HR Dataset - Warren County', y=0.95)\n",
    "plt.tight_layout()\n",
    "plt.show()"
   ]
  },
  {
   "cell_type": "markdown",
   "metadata": {},
   "source": [
    "## Hardin County"
   ]
  },
  {
   "cell_type": "code",
   "execution_count": null,
   "metadata": {},
   "outputs": [],
   "source": [
    "# url's for NHDPlusHR HUC4 Basins covering Hardin County\n",
    "\n",
    "# nhd_north_url = r'https://prd-tnm.s3.amazonaws.com/StagedProducts/Hydrography/NHDPlusHR/VPU/Current/GDB/NHDPLUS_H_0514_HU4_GDB.zip'\n",
    "\n",
    "# nhd_south_url = r'https://prd-tnm.s3.amazonaws.com/StagedProducts/Hydrography/NHDPlusHR/VPU/Current/GDB/NHDPLUS_H_0511_HU4_GDB.zip'"
   ]
  },
  {
   "cell_type": "markdown",
   "metadata": {},
   "source": [
    "# **Open Street Maps Roads & Railways**"
   ]
  },
  {
   "cell_type": "markdown",
   "metadata": {},
   "source": [
    "***OVERVIEW***\n",
    "* Roads and railroad centerlines...\n",
    "\n",
    "***PURPOSE***\n",
    "* Mostly beneficial for delineating roads & railways..."
   ]
  },
  {
   "cell_type": "code",
   "execution_count": null,
   "metadata": {},
   "outputs": [],
   "source": [
    "#############################################\n",
    "# Download & save OSM files for Kentucky\n",
    "#############################################\n",
    "\n",
    "# URL for Open Street Maps Kentucky dataset download\n",
    "osm_url = r'http://download.geofabrik.de/north-america/us/kentucky-latest-free.shp.zip'\n",
    "\n",
    "# directory to save Open Street Maps dataset\n",
    "osm_dir = r'../data/osm_ky'\n",
    "if not os.path.isdir(osm_dir):\n",
    "    os.makedirs(osm_dir)\n",
    "\n",
    "# path to temporarily save downloaded zip file\n",
    "osm_zip_path = r'../data/osm_ky/osm.zip'\n",
    "\n",
    "# custom function to download zip, extract contents, and delete zip\n",
    "download_zip(osm_url, osm_zip_path)\n",
    "\n",
    "# only save shapefiles for roads and railroads (gis_osm_roads_free_1 & gis_osm_railways_free_1)\n",
    "all_shapefiles = glob.glob(os.path.join(osm_dir, '*.*'))\n",
    "for path in all_shapefiles:\n",
    "    if 'gis_osm_roads_free_1' in path:\n",
    "        continue\n",
    "    elif 'gis_osm_railways_free_1' in path:\n",
    "        continue\n",
    "    else:\n",
    "        os.remove(path)"
   ]
  },
  {
   "cell_type": "markdown",
   "metadata": {},
   "source": [
    "## Warren County"
   ]
  },
  {
   "cell_type": "code",
   "execution_count": null,
   "metadata": {},
   "outputs": [],
   "source": [
    "########################################################################\n",
    "# Clip to Roads & Railways shapefiles to Warren County Dataset Boundary\n",
    "########################################################################\n",
    "\n",
    "# paths to directory containing road and railway shapefiles\n",
    "osm_shp_paths = glob.glob(r'../data/osm_ky/*.shp')\n",
    "\n",
    "# path to dataset boundary GeoJSON\n",
    "boundary_path = glob.glob(r'../data/warren/boundary_buffer*.geojson')[0]\n",
    "\n",
    "# directory to store clipped osm datasets\n",
    "osm_warren_dir = r'../data/warren/osm_warren'\n",
    "if not os.path.isdir(osm_warren_dir):\n",
    "    os.makedirs(osm_warren_dir)\n",
    "\n",
    "# iterate through shapefiles and clip to dataset boundary\n",
    "for shp_path in osm_shp_paths:\n",
    "    filename = os.path.basename(shp_path)\n",
    "    filename = os.path.splitext(filename)[0]\n",
    "    if 'roads' in filename:\n",
    "        filename = 'OSM_Roads'\n",
    "    else:\n",
    "        filename = 'OSM_Railways'\n",
    "    output_path = f\"{osm_warren_dir}/{filename}.geojson\"\n",
    "    if not os.path.isfile(output_path):\n",
    "        clip_spatial_to_boundary(shp_path, boundary_path, output_path)"
   ]
  },
  {
   "cell_type": "code",
   "execution_count": null,
   "metadata": {},
   "outputs": [],
   "source": [
    "####################\n",
    "# Convert to Images\n",
    "####################\n",
    "\n",
    "osm_warren_files = glob.glob(r'../data/warren/osm_warren/*.geojson')\n",
    "\n",
    "reference_image = r'../data/warren/dem.tif'\n",
    "\n",
    "for osm_path in osm_warren_files:\n",
    "    output_filename = os.path.basename(osm_path)\n",
    "    output_filename = os.path.splitext(output_filename)[0]\n",
    "    output_path = f\"../data/warren/{output_filename}.tif\"\n",
    "    convert_spatial_to_reference_image(osm_path, reference_image, output_path, attribute=None)"
   ]
  },
  {
   "cell_type": "code",
   "execution_count": null,
   "metadata": {},
   "outputs": [],
   "source": [
    "#######################################\n",
    "# Visualize Roads & Railways (GIS) \n",
    "#######################################\n",
    "\n",
    "fig, ax = plt.subplots(figsize=(7, 7))\n",
    "\n",
    "gdf_roads = gpd.read_file(r'../data/warren/osm_warren/OSM_Roads.geojson')\n",
    "gdf_rails = gpd.read_file(r'../data/warren/osm_warren/OSM_Railways.geojson')\n",
    "gdf_boundary = gpd.read_file(glob.glob(r'../data/warren/boundary_buffer*.geojson')[0])\n",
    "\n",
    "gdf_boundary.plot(ax=ax, color='grey')\n",
    "gdf_roads.plot(ax=ax, color='white', linewidth=1)\n",
    "gdf_rails.plot(ax=ax, color='black', linewidth=2)\n",
    "\n",
    "ax.set_axis_off()\n",
    "ax.set_title('Warren County, Open Street Maps Dataset\\n(Roads & Railways)', y=0.95)\n",
    "plt.tight_layout()\n",
    "plt.show()"
   ]
  },
  {
   "cell_type": "code",
   "execution_count": null,
   "metadata": {},
   "outputs": [],
   "source": [
    "###########################################\n",
    "# Visualize Roads & Railways (Images) \n",
    "###########################################\n",
    "\n",
    "roads_path = r'../data/warren/OSM_Roads.tif'\n",
    "\n",
    "rails_path = r'../data/warren/OSM_Railways.tif'\n",
    "\n",
    "fig, ax = plt.subplots(ncols=2, figsize=(12,6))\n",
    "\n",
    "with rasterio.open(roads_path, 'r') as roads:\n",
    "    show(roads, ax=ax[0])\n",
    "\n",
    "with rasterio.open(rails_path, 'r') as rails:\n",
    "    show(rails, ax=ax[1])\n",
    "\n",
    "for axes in ax:\n",
    "    axes.set_axis_off()\n",
    "ax[0].set_title('Roads', style='italic')\n",
    "ax[1].set_title('Railways', style='italic')\n",
    "plt.suptitle('Open Street Maps Dataset - Warren County', y=0.95)\n",
    "plt.tight_layout()\n",
    "plt.show()"
   ]
  },
  {
   "cell_type": "markdown",
   "metadata": {},
   "source": [
    "## Hardin County"
   ]
  },
  {
   "cell_type": "code",
   "execution_count": null,
   "metadata": {},
   "outputs": [],
   "source": []
  },
  {
   "cell_type": "markdown",
   "metadata": {},
   "source": [
    "# Verify Image Alignment"
   ]
  },
  {
   "cell_type": "markdown",
   "metadata": {},
   "source": [
    "## Warren County"
   ]
  },
  {
   "cell_type": "code",
   "execution_count": null,
   "metadata": {},
   "outputs": [],
   "source": [
    "#########################\n",
    "# Verify Image Alignment\n",
    "#########################\n",
    "\n",
    "# paths to images\n",
    "image_paths = glob.glob(r'../data/warren/*.tif')\n",
    "image_paths.sort(key=lambda x: x.lower())\n",
    "\n",
    "# names of images\n",
    "image_names = []\n",
    "for path in image_paths:\n",
    "    name = os.path.basename(path)\n",
    "    name = os.path.splitext(name)[0]\n",
    "    image_names.append(name)\n",
    "\n",
    "# compile image alignment information in dataframe\n",
    "df = pd.DataFrame({'image':image_names, 'path':image_paths})\n",
    "df[['resolution_x', 'resolution_y', 'width', 'height', 'left', 'bottom', 'right', 'top']] = pd.NA\n",
    "for image, path in zip(image_names, image_paths):\n",
    "    with rasterio.open(path) as src:\n",
    "        df.loc[df['image'] == image, 'resolution_x'] = src.res[0]\n",
    "        df.loc[df['image'] == image, 'resolution_y'] = src.res[1]\n",
    "        df.loc[df['image'] == image, 'width'] = src.width\n",
    "        df.loc[df['image'] == image, 'height'] = src.height\n",
    "        df.loc[df['image'] == image, 'left'] = src.bounds[0]\n",
    "        df.loc[df['image'] == image, 'bottom'] = src.bounds[1]\n",
    "        df.loc[df['image'] == image, 'right'] = src.bounds[2]\n",
    "        df.loc[df['image'] == image, 'top'] = src.bounds[3]\n",
    "df.head(20)"
   ]
  },
  {
   "cell_type": "markdown",
   "metadata": {},
   "source": [
    "## Hardin County"
   ]
  },
  {
   "cell_type": "code",
   "execution_count": null,
   "metadata": {},
   "outputs": [],
   "source": []
  },
  {
   "cell_type": "markdown",
   "metadata": {},
   "source": [
    "# Image Patches"
   ]
  },
  {
   "cell_type": "markdown",
   "metadata": {},
   "source": [
    "## Warren County"
   ]
  },
  {
   "cell_type": "markdown",
   "metadata": {},
   "source": [
    "### Create Patches"
   ]
  },
  {
   "cell_type": "code",
   "execution_count": null,
   "metadata": {},
   "outputs": [],
   "source": [
    "##############################\n",
    "# Create GIS Patch Polygons\n",
    "##############################\n",
    "\n",
    "# path to warren county dataset boundary (not buffered boundary)\n",
    "boundary_path = r'../data/warren/boundary.geojson'\n",
    "\n",
    "# define patch size (in pixels)\n",
    "patch_size = 256\n",
    "\n",
    "# define overlap size (in proportion)\n",
    "overlap = 0.5\n",
    "\n",
    "# spatial resolution of reference image\n",
    "image_resolution = 5\n",
    "\n",
    "# output path of patches GeoJSON\n",
    "output_path = f\"../data/warren/patches_{patch_size}.geojson\"\n",
    "\n",
    "\n",
    "##### create patches geodataframe\n",
    "create_patches(boundary_path, patch_size, overlap, image_resolution, output_path)"
   ]
  },
  {
   "cell_type": "code",
   "execution_count": null,
   "metadata": {},
   "outputs": [],
   "source": [
    "####################\n",
    "# Visualize patches\n",
    "####################\n",
    "\n",
    "# path to boundary (non-buffered)\n",
    "boundary = gpd.read_file(r'../data/warren/boundary.geojson')\n",
    "\n",
    "# path to patches geojson\n",
    "patches = gpd.read_file(r'../data/warren/patches_256.geojson')\n",
    "\n",
    "\n",
    "##### plot figure\n",
    "fig, ax = plt.subplots(figsize=(8,8))\n",
    "boundary.plot(ax=ax)\n",
    "patches.plot(ax=ax, edgecolor='k', facecolor='none', linewidth=0.5)\n",
    "ax.set_axis_off()\n",
    "ax.set_title(f\"Warren County Dataset Image Patches\\n(256x256, 50% overlap, n={len(patches)})\", y=0.95)\n",
    "plt.show()"
   ]
  },
  {
   "cell_type": "markdown",
   "metadata": {},
   "source": [
    "### Patch Attributes"
   ]
  },
  {
   "cell_type": "code",
   "execution_count": null,
   "metadata": {},
   "outputs": [],
   "source": [
    "patches = gpd.read_file(r'../data/warren/patches_256.geojson')\n",
    "patches.head()"
   ]
  },
  {
   "cell_type": "code",
   "execution_count": null,
   "metadata": {},
   "outputs": [],
   "source": [
    "mapunits = gpd.read_file(r'../data/geology.gdb', layer='warren_geo')\n",
    "mapunits.drop(columns=['Shape_Length', 'Shape_Area'], inplace=True)\n",
    "mapunits['mapunit_id'] = [f\"{i}\" for i in range(1, len(mapunits)+1)]\n",
    "mapunits.head()"
   ]
  },
  {
   "cell_type": "code",
   "execution_count": null,
   "metadata": {},
   "outputs": [],
   "source": [
    "gdf_overlay = gpd.overlay(mapunits, patches, how='intersection')\n",
    "gdf_overlay.head()"
   ]
  },
  {
   "cell_type": "code",
   "execution_count": null,
   "metadata": {},
   "outputs": [],
   "source": [
    "gdf_overlay['area_in_patch'] = gdf_overlay.geometry.area\n",
    "gdf_overlay.head()"
   ]
  },
  {
   "cell_type": "code",
   "execution_count": null,
   "metadata": {},
   "outputs": [],
   "source": [
    "# gdf_overlay.groupby(['patch_id', 'mapunit_id']).agg({'Symbol':'unique', 'area_in_patch':'sum'}).head(10)\n",
    "gdf_overlay.groupby(['patch_id', 'mapunit_id']).agg({'Symbol':'unique', 'area_in_patch':'sum'}).xs('256_3501', level='patch_id')"
   ]
  },
  {
   "cell_type": "code",
   "execution_count": null,
   "metadata": {},
   "outputs": [],
   "source": [
    "gdf_overlay.groupby(['patch_id', 'Symbol']).agg({'mapunit_id': 'unique', 'area_in_patch':'sum'}).head(10)"
   ]
  },
  {
   "cell_type": "code",
   "execution_count": null,
   "metadata": {},
   "outputs": [],
   "source": [
    "gdf_overlay.groupby(['patch_id']).agg({'mapunit_id':'unique', 'Symbol':'unique'}).head(10)"
   ]
  },
  {
   "cell_type": "code",
   "execution_count": null,
   "metadata": {},
   "outputs": [],
   "source": [
    "mapunits_unique = mapunits['Symbol'].unique()\n",
    "mapunits_unique = list(mapunits_unique)\n",
    "mapunits_unique.sort(key=lambda x: x.lower())\n",
    "mapunits_unique"
   ]
  },
  {
   "cell_type": "markdown",
   "metadata": {},
   "source": [
    "### Clip Image Patches"
   ]
  },
  {
   "cell_type": "code",
   "execution_count": null,
   "metadata": {},
   "outputs": [],
   "source": [
    "patch_path = r'../data/warren/patches_256.geojson'\n",
    "\n",
    "image_paths = glob.glob(r'../data/warren/*.tif')\n",
    "image_paths.sort(key=lambda x: x.lower())\n",
    "\n",
    "output_dir = r'../data/warren/patches'\n",
    "\n",
    "n_patches = 5"
   ]
  },
  {
   "cell_type": "code",
   "execution_count": null,
   "metadata": {},
   "outputs": [],
   "source": [
    "image_paths"
   ]
  },
  {
   "cell_type": "code",
   "execution_count": null,
   "metadata": {},
   "outputs": [],
   "source": [
    "if not os.path.isdir(output_dir):\n",
    "    os.makedirs(output_dir)\n",
    "\n",
    "gdf_patches = gpd.read_file(patch_path)"
   ]
  },
  {
   "cell_type": "code",
   "execution_count": null,
   "metadata": {},
   "outputs": [],
   "source": [
    "rng = np.random.default_rng(seed=111)\n",
    "random_patch_idx = rng.integers(low=0, high=len(gdf_patches), size=n_patches)\n",
    "random_patch_idx"
   ]
  },
  {
   "cell_type": "code",
   "execution_count": null,
   "metadata": {},
   "outputs": [],
   "source": [
    "gdf_patch_subset = gdf_patches.iloc[random_patch_idx]"
   ]
  },
  {
   "cell_type": "code",
   "execution_count": null,
   "metadata": {},
   "outputs": [],
   "source": [
    "for path in image_paths:\n",
    "    image_name = os.path.basename(path)\n",
    "    image_name = os.path.splitext(image_name)[0]\n",
    "\n",
    "    with rasterio.open(path) as src:\n",
    "\n",
    "        for idx, row in gdf_patch_subset.iterrows():\n",
    "            geom = [row['geometry']]\n",
    "            dst_image, dst_transform = mask(src, shapes=geom, crop=True)\n",
    "            dst_meta = src.meta.copy()\n",
    "            dst_meta.update({'driver':'GTiff', \n",
    "                             'height':dst_image.shape[1], \n",
    "                             'width':dst_image.shape[2], \n",
    "                             'transform':dst_transform})\n",
    "            \n",
    "            dst_filename = f\"{row['patch_id']}_{image_name}.tif\"\n",
    "            dst_path = os.path.join(output_dir, dst_filename)\n",
    "        \n",
    "            with rasterio.open(dst_path, 'w', **dst_meta) as dst:\n",
    "                dst.write(dst_image)"
   ]
  },
  {
   "cell_type": "code",
   "execution_count": null,
   "metadata": {},
   "outputs": [],
   "source": [
    "gdf_map = gpd.read_file(r'../data/geology.gdb', layer='warren_geo')\n",
    "\n",
    "image_paths = glob.glob(r'../data/warren/patches/256_14962*.tif')\n",
    "image_paths.sort(key=lambda x: x.lower())"
   ]
  },
  {
   "cell_type": "code",
   "execution_count": null,
   "metadata": {},
   "outputs": [],
   "source": [
    "fig, ax = plt.subplots(nrows=5, ncols=3, figsize=(9, 12))\n",
    "ax = ax.ravel()\n",
    "\n",
    "for idx, path in enumerate(image_paths, start=1):\n",
    "    name = os.path.basename(path)\n",
    "    name = os.path.splitext(name)[0]\n",
    "    with rasterio.open(path) as src:\n",
    "        show(src, ax=ax[idx])\n",
    "        ax[idx].set_axis_off()\n",
    "        ax[idx].set_title(name, fontsize=8)\n",
    "        bbox = src.bounds\n",
    "\n",
    "gdf_subset = gpd.clip(gdf_map, bbox)\n",
    "\n",
    "gdf_subset.plot(ax=ax[0], column='Symbol', legend=True, legend_kwds={'bbox_to_anchor':(0,1), 'frameon':False})\n",
    "ax[0].set_axis_off()\n",
    "ax[0].set_title('Targets', fontsize=8)\n",
    "ax[0].set_xlim(bbox.left, bbox.right)\n",
    "ax[0].set_ylim(bbox.bottom, bbox.top)\n",
    "plt.tight_layout()\n",
    "plt.show()"
   ]
  },
  {
   "cell_type": "code",
   "execution_count": null,
   "metadata": {},
   "outputs": [],
   "source": []
  }
 ],
 "metadata": {
  "kernelspec": {
   "display_name": "Python 3 (ipykernel)",
   "language": "python",
   "name": "python3"
  },
  "language_info": {
   "codemirror_mode": {
    "name": "ipython",
    "version": 3
   },
   "file_extension": ".py",
   "mimetype": "text/x-python",
   "name": "python",
   "nbconvert_exporter": "python",
   "pygments_lexer": "ipython3",
   "version": "3.12.3"
  }
 },
 "nbformat": 4,
 "nbformat_minor": 4
}
