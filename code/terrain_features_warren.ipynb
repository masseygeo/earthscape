{
 "cells": [
  {
   "cell_type": "markdown",
   "metadata": {},
   "source": [
    "# **Imports & Settings**"
   ]
  },
  {
   "cell_type": "code",
   "execution_count": 3,
   "metadata": {},
   "outputs": [],
   "source": [
    "from utils_data_prep import *\n",
    "import os\n",
    "import numpy as np\n",
    "import rasterio\n",
    "from rasterio.plot import show\n",
    "import whitebox\n",
    "from scipy.ndimage import gaussian_filter\n",
    "\n",
    "import matplotlib.pyplot as plt"
   ]
  },
  {
   "cell_type": "code",
   "execution_count": 4,
   "metadata": {},
   "outputs": [
    {
     "data": {
      "text/plain": [
       "\"WhiteboxTools v2.4.0 (c) Dr. John Lindsay 2017-2023\\n\\nWhiteboxTools is an advanced geospatial data analysis platform developed at\\nthe University of Guelph's Geomorphometry and Hydrogeomatics Research \\nGroup (GHRG). See www.whiteboxgeo.com for more details.\\n\""
      ]
     },
     "execution_count": 4,
     "metadata": {},
     "output_type": "execute_result"
    }
   ],
   "source": [
    "#########################\n",
    "# Initialize Whitebox\n",
    "#########################\n",
    "# USER MANUAL: https://whiteboxgeo.com/manual/wbt_book/preface.html\n",
    "\n",
    "# import whitebox tools class as wbt object\n",
    "wbt = whitebox.WhiteboxTools()\n",
    "\n",
    "# toggle on/off geoprocessing tool outputs (optional)\n",
    "# wbt.verbose = False\n",
    "\n",
    "# set working directory for input/output files to current working directory\n",
    "wbt.set_working_dir(os.getcwd())\n",
    "\n",
    "# print whitebox version to verify correctly loading\n",
    "wbt.version()"
   ]
  },
  {
   "cell_type": "markdown",
   "metadata": {},
   "source": [
    "\n",
    "# **Terrain Features**"
   ]
  },
  {
   "cell_type": "markdown",
   "metadata": {},
   "source": [
    "***OVERVIEW***\n",
    "* Terrain features are derived from the DEM to characterize the topography and capture features that are critical for identifying and delineating surficial geologic map units. These features provide supplementary data about topography, weathering processes, water drainage patterns, and vegetation that enhance the interpretation of geologic processes and landforms, contributing to more accurate predictions.\n",
    "\n",
    "* Terrain features may be calculated using a variety of GIS tools. The features below use the Python implementation of Whitebox Tools. Details from the user manual are presented below each tool, and the reader is referred to the home page for more information - https://www.whiteboxgeo.com/manual/wbt_book/preface.html\n",
    "\n",
    "***PURPOSE***\n",
    "* Eight terrain features are calculated from the DEM, each providing unique insights into the landscape's characteristics:\n",
    "\n",
    "    1. **Slope.** Measures the steepness or incline of the terrain. It is critical for identifying areas prone to erosion, landslides, or specific deposition patterns associated with certain geologic map units.\n",
    "\n",
    "    2. **Profile Curvature.** Indicates the curvature of the terrain in the direction of the slope. It affects the acceleration or deceleration of water flow, which can influence erosion and sediment deposition patterns.\n",
    "\n",
    "    3. **Planform Curvature.** Measures the curvature perpendicular to the slope direction. It helps in identifying convergent and divergent flow patterns, which are important for understanding water drainage and sediment deposition.\n",
    "\n",
    "    4. **Standard Deviation of Slope.** Provides a measure of the variability in slope within a given area. It is useful for identifying areas with complex topography, which may correlate with different geologic processes or materials.\n",
    "\n",
    "    5. **Elevation Percentile.** Measure of local tpi..."
   ]
  },
  {
   "cell_type": "markdown",
   "metadata": {},
   "source": [
    "## *Multi-scale Analysis*"
   ]
  },
  {
   "cell_type": "markdown",
   "metadata": {},
   "source": [
    "* Multiple scales of terrain features can be critical to accurately detect and characterize surficial geologic map units. \n",
    "\n",
    "* The DEM will be scaled to multiple resolutions and each of these will then be used to calculate the terrain features.\n",
    "\n",
    "    * Gaussian filter (3x3 or 5x5 kernel) will be applied to the original DEM\n",
    "\n",
    "    * The filtered DEM will then be downsampled to several lower resolutions to capture local, intermediate, and global scale topographic features that may be relevant to the ultimate goal of identifying surficial geologic map units.\n",
    "\n",
    "        * Original DEM has a spatial resolution of 5x5 feet per pixel.\n",
    "\n",
    "        * Downsample resolutions will be 10x10, 20x20, 100x100, and 200x200 feet per pixel.\n",
    "\n",
    "    * Terrain features will be calculated directly from downsampled DEMs.\n",
    "    \n",
    "    * Scaled Terrain features will then be upsampled and aligned with the original DEM and other features in the dataset."
   ]
  },
  {
   "cell_type": "code",
   "execution_count": null,
   "metadata": {},
   "outputs": [],
   "source": [
    "from rasterio.enums import Resampling\n",
    "from rasterio.warp import calculate_default_transform, reproject\n",
    "\n",
    "def resample_image(input_path, new_resolution, output_path):\n",
    "\n",
    "    with rasterio.open(input_path) as src:\n",
    "\n",
    "        # calculate the new transform and dimensions based on the new resolution\n",
    "        dst_transform, dst_width, dst_height = calculate_default_transform(src.crs, \n",
    "                                                                           src.crs, \n",
    "                                                                           src.width, \n",
    "                                                                           src.height, \n",
    "                                                                           *src.bounds, \n",
    "                                                                           resolution=new_resolution)\n",
    "        \n",
    "        dst_meta = src.meta.copy()\n",
    "        dst_meta.update({'driver': 'GTiff', \n",
    "                         'width': dst_width, \n",
    "                         'height': dst_height, \n",
    "                         'transform':dst_transform})\n",
    "        \n",
    "        with rasterio.open(output_path, 'w', **dst_meta) as dst:\n",
    "\n",
    "            reproject(source=rasterio.band(src, 1), \n",
    "                      destination=rasterio.band(dst, 1), \n",
    "                      src_transform=src.transform, \n",
    "                      src_crs=src.crs, \n",
    "                      dst_transform=dst_transform, \n",
    "                      dst_crs=src.crs, \n",
    "                      resampling=Resampling.cubic)"
   ]
  },
  {
   "cell_type": "code",
   "execution_count": null,
   "metadata": {},
   "outputs": [],
   "source": [
    "def apply_gaussian_filter(input_path, sigma, output_path):\n",
    "\n",
    "    with rasterio.open(input_path) as src:\n",
    "\n",
    "        src_data = src.read(1, masked=True)\n",
    "\n",
    "        dst_data = gaussian_filter(src_data, sigma=sigma)\n",
    "\n",
    "        dst_meta = src.meta.copy()\n",
    "\n",
    "    with rasterio.open(output_path, 'w', **dst_meta) as dst:\n",
    "        dst.write(dst_data, 1)\n",
    "    pass"
   ]
  },
  {
   "cell_type": "code",
   "execution_count": null,
   "metadata": {},
   "outputs": [],
   "source": [
    "################################\n",
    "# Create Multiple Scales of DEM\n",
    "################################\n",
    "\n",
    "# path to original dem\n",
    "dem_path = r'../data/warren/dem_buffered.tif'\n",
    "\n",
    "# list of resolution(s) to downsample DEM (in native spatial units, which is feet here)\n",
    "downsample_resolutions = [10, 20, 100, 200]\n",
    "\n",
    "\n",
    "##### downsample DEM and save new GeoTIFF images\n",
    "for res in downsample_resolutions:\n",
    "    output_path = f\"../data/warren/dem_{res}.tif\"\n",
    "    downsample_image(dem_path, res, output_path)"
   ]
  },
  {
   "cell_type": "code",
   "execution_count": null,
   "metadata": {},
   "outputs": [],
   "source": [
    "fig, ax = plt.subplots(figsize=(6,6))\n",
    "with rasterio.open(r'../data/warren/dem_10.tif') as src:\n",
    "    show(src, ax=ax, cmap='terrain')\n",
    "ax.set_axis_off()\n",
    "ax.set_xlim(4750000, 4770000)\n",
    "ax.set_ylim(3540000, 3560000)\n",
    "plt.tight_layout()\n",
    "plt.show()"
   ]
  },
  {
   "cell_type": "code",
   "execution_count": 19,
   "metadata": {},
   "outputs": [
    {
     "data": {
      "text/plain": [
       "array([[0., 1., 2.],\n",
       "       [3., 4., 5.],\n",
       "       [6., 7., 8.]], dtype=float32)"
      ]
     },
     "execution_count": 19,
     "metadata": {},
     "output_type": "execute_result"
    }
   ],
   "source": [
    "x = np.arange(9, dtype=np.float32).reshape((3,3))\n",
    "x"
   ]
  },
  {
   "cell_type": "code",
   "execution_count": 20,
   "metadata": {},
   "outputs": [
    {
     "data": {
      "text/plain": [
       "array([[1.688295 , 2.2662213, 2.8441474],\n",
       "       [3.4220738, 4.       , 4.577926 ],\n",
       "       [5.1558523, 5.7337785, 6.3117046]], dtype=float32)"
      ]
     },
     "execution_count": 20,
     "metadata": {},
     "output_type": "execute_result"
    }
   ],
   "source": [
    "gaussian_filter(x, sigma=1)"
   ]
  },
  {
   "cell_type": "markdown",
   "metadata": {},
   "source": [
    "## *Slope*"
   ]
  },
  {
   "cell_type": "markdown",
   "metadata": {},
   "source": [
    "This tool calculates slope gradient (i.e. slope steepness in degrees, radians, or percent) for each grid cell in an input digital elevation model (DEM). For DEMs in projected coordinate systems, the tool uses the 3rd-order bivariate Taylor polynomial method described by Florinsky (2016). Based on a polynomial fit of the elevations within the 5x5 neighbourhood surrounding each cell, this method is considered more robust against outlier elevations (noise) than other methods.\n",
    "\n",
    "* https://www.whiteboxgeo.com/manual/wbt_book/available_tools/geomorphometric_analysis.html#Slope"
   ]
  },
  {
   "cell_type": "code",
   "execution_count": null,
   "metadata": {},
   "outputs": [],
   "source": [
    "###########################\n",
    "# Calculate Slope from DEM\n",
    "###########################\n",
    "\n",
    "# path to dem GeoTIFF\n",
    "dem_path = r'../data/warren/dem.tif'\n",
    "\n",
    "# path for output slope GeoTIFF\n",
    "output_path = r'../data/warren/slope.tif'\n",
    "\n",
    "\n",
    "##### calculate terrain feature"
   ]
  },
  {
   "cell_type": "markdown",
   "metadata": {},
   "source": [
    "## *Profile Curvature*"
   ]
  },
  {
   "cell_type": "markdown",
   "metadata": {},
   "source": [
    "This tool calculates the profile (or vertical) curvature, or the rate of change in slope along a flow line, from a digital elevation model (DEM). It is the curvature of a normal section having a common tangent line with a slope line at a given point on the surface (Florinsky, 2017). This variable has an unbounded range that can take either positive or negative values. Positive values of the index are indicative of flow acceleration while negative profile curvature values indicate flow deceleration. Profile curvature is measured in units of m-1. For DEMs in projected coordinate systems, the tool uses the 3rd-order bivariate Taylor polynomial method described by Florinsky (2016). Based on a polynomial fit of the elevations within the 5x5 neighbourhood surrounding each cell, this method is considered more robust against outlier elevations (noise) than other methods.\n",
    "\n",
    "* https://www.whiteboxgeo.com/manual/wbt_book/available_tools/geomorphometric_analysis.html#ProfileCurvature"
   ]
  },
  {
   "cell_type": "code",
   "execution_count": null,
   "metadata": {},
   "outputs": [],
   "source": [
    "#######################################\n",
    "# Calculate Profile Curvature from DEM\n",
    "#######################################\n",
    "\n",
    "# path to dem GeoTIFF\n",
    "dem_path = r'../data/warren/dem.tif'\n",
    "\n",
    "# path for output slope GeoTIFF\n",
    "output_path = r'../data/warren/profilecurvature.tif'\n",
    "\n",
    "\n",
    "##### calculate terrain feature"
   ]
  },
  {
   "cell_type": "markdown",
   "metadata": {},
   "source": [
    "## *Planform Curvature*"
   ]
  },
  {
   "cell_type": "markdown",
   "metadata": {},
   "source": [
    "This tool calculates the plan (or contour) curvature from a digital elevation model (DEM). Plan curvature is the curvature of a contour line at a given point on the topographic surface (Florinsky, 2017). This variable has an unbounded range that can take either positive or negative values. Positive values of the index are indicative of flow divergence while negative plan curvature values indicate flow convergence. Thus plan curvature is similar to tangential curvature, although the literature suggests that the latter is more numerically stable (Wilson, 2018). Plan curvature is measured in units of m-1. method described by Florinsky (2016). Based on a polynomial fit of the elevations within the 5x5 neighbourhood surrounding each cell, this method is considered more robust against outlier elevations (noise) than other methods. \n",
    "\n",
    "* https://www.whiteboxgeo.com/manual/wbt_book/available_tools/geomorphometric_analysis.html#PlanCurvature"
   ]
  },
  {
   "cell_type": "code",
   "execution_count": null,
   "metadata": {},
   "outputs": [],
   "source": [
    "#######################################\n",
    "# Calculate Profile Curvature from DEM\n",
    "#######################################\n",
    "\n",
    "# path to dem GeoTIFF\n",
    "dem_path = r'../data/warren/dem.tif'\n",
    "\n",
    "# path for output slope GeoTIFF\n",
    "output_path = r'../data/warren/plancurvature.tif'\n",
    "\n",
    "\n",
    "##### calculate terrain feature"
   ]
  },
  {
   "cell_type": "markdown",
   "metadata": {},
   "source": [
    "## *Standard Deviation of Slope*"
   ]
  },
  {
   "cell_type": "markdown",
   "metadata": {},
   "source": [
    "Calculates the standard deviation of slope from an input DEM, a metric of roughness described by Grohmann et al., (2011).\n",
    "\n",
    "* https://www.whiteboxgeo.com/manual/wbt_book/available_tools/geomorphometric_analysis.html#StandardDeviationOfSlope\n",
    "\n"
   ]
  },
  {
   "cell_type": "code",
   "execution_count": null,
   "metadata": {},
   "outputs": [],
   "source": [
    "#################################################\n",
    "# Calculate Standard Deviation of Slope from DEM\n",
    "#################################################\n",
    "\n",
    "# path to dem GeoTIFF\n",
    "dem_path = r'../data/warren/dem.tif'\n",
    "\n",
    "# window size(s) for calculating ep (in pixels)\n",
    "windows = [5, 11]\n",
    "\n",
    "\n",
    "##### calculate terrain feature\n",
    "for window in windows:\n",
    "    output_path = f\"r../data/warren/sdslope_{window}.tif\""
   ]
  },
  {
   "cell_type": "markdown",
   "metadata": {},
   "source": [
    "## *Elevation Percentile*"
   ]
  },
  {
   "cell_type": "markdown",
   "metadata": {},
   "source": [
    "Elevation percentile (EP) is a measure of local topographic position (LTP). It expresses the vertical position for a digital elevation model (DEM) grid cell (z0) as the percentile of the elevation distribution within the filter window, such that:\n",
    "\n",
    "EP = counti∈C(zi < z0) x (100 / nC)\n",
    "\n",
    "where z0 is the elevation of the window's center grid cell, zi is the elevation of cell i contained within the neighboring set C, and nC is the number of grid cells contained within the window.\n",
    "\n",
    "EP is unsigned and expressed as a percentage, bound between 0% and 100%. Quantile-based estimates (e.g., the median and interquartile range) are often used in nonparametric statistics to provide data variability estimates without assuming the distribution is normal. Thus, EP is largely unaffected by irregularly shaped elevation frequency distributions or by outliers in the DEM, resulting in a highly robust metric of LTP. In fact, elevation distributions within small to medium sized neighborhoods often exhibit skewed, multimodal, and non-Gaussian distributions, where the occurrence of elevation errors can often result in distribution outliers. Thus, based on these statistical characteristics, EP is considered one of the most robust representation of LTP.\n",
    "\n",
    "* https://www.whiteboxgeo.com/manual/wbt_book/available_tools/geomorphometric_analysis.html#ElevPercentile"
   ]
  },
  {
   "cell_type": "code",
   "execution_count": null,
   "metadata": {},
   "outputs": [],
   "source": [
    "##########################################\n",
    "# Calculate Elevation Percentile from DEM\n",
    "##########################################\n",
    "\n",
    "# path to dem GeoTIFF\n",
    "dem_path = r'../data/warren/dem.tif'\n",
    "\n",
    "# window size(s) for calculating ep (in pixels)\n",
    "windows = [5, 11]\n",
    "\n",
    "\n",
    "##### calculate terrain feature\n",
    "for window in windows:\n",
    "    output_path = f\"r../data/warren/ep_{window}.tif\""
   ]
  },
  {
   "cell_type": "markdown",
   "metadata": {},
   "source": [
    "# **PCA Multi-Scale Features**"
   ]
  },
  {
   "cell_type": "code",
   "execution_count": null,
   "metadata": {},
   "outputs": [],
   "source": []
  },
  {
   "cell_type": "markdown",
   "metadata": {},
   "source": [
    "# **Align with Dataset**"
   ]
  },
  {
   "cell_type": "code",
   "execution_count": null,
   "metadata": {},
   "outputs": [],
   "source": []
  }
 ],
 "metadata": {
  "kernelspec": {
   "display_name": "cs612",
   "language": "python",
   "name": "python3"
  },
  "language_info": {
   "codemirror_mode": {
    "name": "ipython",
    "version": 3
   },
   "file_extension": ".py",
   "mimetype": "text/x-python",
   "name": "python",
   "nbconvert_exporter": "python",
   "pygments_lexer": "ipython3",
   "version": "3.12.3"
  }
 },
 "nbformat": 4,
 "nbformat_minor": 2
}
